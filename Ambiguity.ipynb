{
  "nbformat": 4,
  "nbformat_minor": 0,
  "metadata": {
    "colab": {
      "provenance": [],
      "gpuType": "T4",
      "authorship_tag": "ABX9TyO/C3Dr7xemCBzFvCCJv2n0",
      "include_colab_link": true
    },
    "kernelspec": {
      "name": "python3",
      "display_name": "Python 3"
    },
    "language_info": {
      "name": "python"
    },
    "accelerator": "GPU"
  },
  "cells": [
    {
      "cell_type": "markdown",
      "metadata": {
        "id": "view-in-github",
        "colab_type": "text"
      },
      "source": [
        "<a href=\"https://colab.research.google.com/github/George-Okello/Ambiguity/blob/main/Ambiguity.ipynb\" target=\"_parent\"><img src=\"https://colab.research.google.com/assets/colab-badge.svg\" alt=\"Open In Colab\"/></a>"
      ]
    },
    {
      "cell_type": "code",
      "execution_count": 4,
      "metadata": {
        "id": "zMmcu1zoHYrS"
      },
      "outputs": [],
      "source": [
        "# Install HuggingFace Transformers and Datasets libraries\n",
        "!pip install transformers datasets -q\n"
      ]
    },
    {
      "cell_type": "code",
      "source": [
        "import random\n",
        "from datasets import load_dataset\n",
        "import numpy as np\n",
        "import torch\n",
        "def set_seed(seed=42):\n",
        "    random.seed(seed)\n",
        "    np.random.seed(seed)\n",
        "    torch.manual_seed(seed)\n",
        "    torch.cuda.manual_seed_all(seed)\n",
        "    torch.backends.cudnn.deterministic = True  # less efficient but reproducible\n",
        "    torch.backends.cudnn.benchmark = False\n",
        "\n",
        "set_seed(42)\n",
        "# Load the WSC dataset\n",
        "dataset = load_dataset(\"super_glue\", \"wsc.fixed\")\n",
        "dataset = dataset[\"validation\"]  # Using the validation set for testing\n"
      ],
      "metadata": {
        "id": "mmB0vnycTZjL"
      },
      "execution_count": 3,
      "outputs": []
    },
    {
      "cell_type": "code",
      "source": [
        "# View a sample\n",
        "sample = dataset[0]\n",
        "for k, v in sample.items():\n",
        "    print(f\"{k}: {v}\")\n"
      ],
      "metadata": {
        "colab": {
          "base_uri": "https://localhost:8080/"
        },
        "id": "pTNSZZpdTdPR",
        "outputId": "63d8a233-5be8-40da-f695-20dabadd3988"
      },
      "execution_count": 5,
      "outputs": [
        {
          "output_type": "stream",
          "name": "stdout",
          "text": [
            "text: Bernard , who had not told the government official that he was less than 21 when he filed for a homestead claim, did not consider that he had done anything dishonest. Still, anyone who knew that he was 19 years old could take his claim away from him .\n",
            "span1_index: 32\n",
            "span2_index: 47\n",
            "span1_text: anyone\n",
            "span2_text: him\n",
            "idx: 0\n",
            "label: 0\n"
          ]
        }
      ]
    },
    {
      "cell_type": "code",
      "source": [
        "from transformers import AutoTokenizer, AutoModelForMaskedLM\n",
        "import torch\n",
        "\n",
        "tokenizer = AutoTokenizer.from_pretrained(\"bert-base-uncased\")\n",
        "model = AutoModelForMaskedLM.from_pretrained(\"bert-base-uncased\")\n",
        "model.eval()\n"
      ],
      "metadata": {
        "colab": {
          "base_uri": "https://localhost:8080/"
        },
        "id": "LauulyeWTfP2",
        "outputId": "b5f9ccb3-2cf5-43a2-e9de-38d531218932"
      },
      "execution_count": 6,
      "outputs": [
        {
          "output_type": "stream",
          "name": "stderr",
          "text": [
            "Some weights of the model checkpoint at bert-base-uncased were not used when initializing BertForMaskedLM: ['bert.pooler.dense.bias', 'bert.pooler.dense.weight', 'cls.seq_relationship.bias', 'cls.seq_relationship.weight']\n",
            "- This IS expected if you are initializing BertForMaskedLM from the checkpoint of a model trained on another task or with another architecture (e.g. initializing a BertForSequenceClassification model from a BertForPreTraining model).\n",
            "- This IS NOT expected if you are initializing BertForMaskedLM from the checkpoint of a model that you expect to be exactly identical (initializing a BertForSequenceClassification model from a BertForSequenceClassification model).\n"
          ]
        },
        {
          "output_type": "execute_result",
          "data": {
            "text/plain": [
              "BertForMaskedLM(\n",
              "  (bert): BertModel(\n",
              "    (embeddings): BertEmbeddings(\n",
              "      (word_embeddings): Embedding(30522, 768, padding_idx=0)\n",
              "      (position_embeddings): Embedding(512, 768)\n",
              "      (token_type_embeddings): Embedding(2, 768)\n",
              "      (LayerNorm): LayerNorm((768,), eps=1e-12, elementwise_affine=True)\n",
              "      (dropout): Dropout(p=0.1, inplace=False)\n",
              "    )\n",
              "    (encoder): BertEncoder(\n",
              "      (layer): ModuleList(\n",
              "        (0-11): 12 x BertLayer(\n",
              "          (attention): BertAttention(\n",
              "            (self): BertSdpaSelfAttention(\n",
              "              (query): Linear(in_features=768, out_features=768, bias=True)\n",
              "              (key): Linear(in_features=768, out_features=768, bias=True)\n",
              "              (value): Linear(in_features=768, out_features=768, bias=True)\n",
              "              (dropout): Dropout(p=0.1, inplace=False)\n",
              "            )\n",
              "            (output): BertSelfOutput(\n",
              "              (dense): Linear(in_features=768, out_features=768, bias=True)\n",
              "              (LayerNorm): LayerNorm((768,), eps=1e-12, elementwise_affine=True)\n",
              "              (dropout): Dropout(p=0.1, inplace=False)\n",
              "            )\n",
              "          )\n",
              "          (intermediate): BertIntermediate(\n",
              "            (dense): Linear(in_features=768, out_features=3072, bias=True)\n",
              "            (intermediate_act_fn): GELUActivation()\n",
              "          )\n",
              "          (output): BertOutput(\n",
              "            (dense): Linear(in_features=3072, out_features=768, bias=True)\n",
              "            (LayerNorm): LayerNorm((768,), eps=1e-12, elementwise_affine=True)\n",
              "            (dropout): Dropout(p=0.1, inplace=False)\n",
              "          )\n",
              "        )\n",
              "      )\n",
              "    )\n",
              "  )\n",
              "  (cls): BertOnlyMLMHead(\n",
              "    (predictions): BertLMPredictionHead(\n",
              "      (transform): BertPredictionHeadTransform(\n",
              "        (dense): Linear(in_features=768, out_features=768, bias=True)\n",
              "        (transform_act_fn): GELUActivation()\n",
              "        (LayerNorm): LayerNorm((768,), eps=1e-12, elementwise_affine=True)\n",
              "      )\n",
              "      (decoder): Linear(in_features=768, out_features=30522, bias=True)\n",
              "    )\n",
              "  )\n",
              ")"
            ]
          },
          "metadata": {},
          "execution_count": 6
        }
      ]
    },
    {
      "cell_type": "code",
      "source": [
        "from torch.nn.functional import softmax\n",
        "\n",
        "def score_sentence(sentence, target):\n",
        "    # Tokenize and locate the token span\n",
        "    inputs = tokenizer(sentence, return_tensors=\"pt\")\n",
        "    with torch.no_grad():\n",
        "        logits = model(**inputs).logits\n",
        "    # Get score for entire sentence (log prob of each token)\n",
        "    input_ids = inputs.input_ids[0]\n",
        "    log_probs = softmax(logits[0], dim=-1)\n",
        "    token_probs = [log_probs[i, input_ids[i]].item() for i in range(len(input_ids))]\n",
        "    return sum(torch.log(torch.tensor(token_probs))).item()\n"
      ],
      "metadata": {
        "id": "mbT5KzcOT2Tn"
      },
      "execution_count": 7,
      "outputs": []
    },
    {
      "cell_type": "code",
      "source": [
        "text = sample[\"text\"]\n",
        "span1 = sample[\"span1_text\"]\n",
        "span2 = sample[\"span2_text\"]\n",
        "\n",
        "# Replace ambiguous pronoun with noun\n",
        "text_with_sub = text.replace(span1, span2)\n",
        "\n",
        "# Score both\n",
        "original_score = score_sentence(text, span1)\n",
        "sub_score = score_sentence(text_with_sub, span2)\n",
        "\n",
        "print(f\"Original: {text}\")\n",
        "print(f\"Modified: {text_with_sub}\")\n",
        "print(f\"Score with pronoun: {original_score:.2f}\")\n",
        "print(f\"Score with candidate: {sub_score:.2f}\")\n",
        "\n",
        "# Prediction\n",
        "prediction = int(sub_score > original_score)\n",
        "print(f\"Predicted label: {prediction}, True label: {sample['label']}\")\n"
      ],
      "metadata": {
        "colab": {
          "base_uri": "https://localhost:8080/"
        },
        "id": "wDasa-nNT78f",
        "outputId": "f3f1256d-76da-4c42-d86f-06575105c3c0"
      },
      "execution_count": 8,
      "outputs": [
        {
          "output_type": "stream",
          "name": "stderr",
          "text": [
            "/usr/local/lib/python3.11/dist-packages/torch/nn/modules/module.py:1750: FutureWarning: `encoder_attention_mask` is deprecated and will be removed in version 4.55.0 for `BertSdpaSelfAttention.forward`.\n",
            "  return forward_call(*args, **kwargs)\n"
          ]
        },
        {
          "output_type": "stream",
          "name": "stdout",
          "text": [
            "Original: Bernard , who had not told the government official that he was less than 21 when he filed for a homestead claim, did not consider that he had done anything dishonest. Still, anyone who knew that he was 19 years old could take his claim away from him .\n",
            "Modified: Bernard , who had not told the government official that he was less than 21 when he filed for a homestead claim, did not consider that he had done anything dishonest. Still, him who knew that he was 19 years old could take his claim away from him .\n",
            "Score with pronoun: -41.93\n",
            "Score with candidate: -43.39\n",
            "Predicted label: 0, True label: 0\n"
          ]
        }
      ]
    },
    {
      "cell_type": "code",
      "source": [
        "correct = 0\n",
        "\n",
        "for i in range(len(dataset)):\n",
        "    ex = dataset[i]\n",
        "    if ex['span1_text'] not in ex['text']:\n",
        "        continue  # Skip malformed entries\n",
        "    text = ex['text']\n",
        "    span1 = ex['span1_text']\n",
        "    span2 = ex['span2_text']\n",
        "    label = ex['label']\n",
        "\n",
        "    try:\n",
        "        text_with_sub = text.replace(span1, span2)\n",
        "        original_score = score_sentence(text, span1)\n",
        "        sub_score = score_sentence(text_with_sub, span2)\n",
        "        prediction = int(sub_score > original_score)\n",
        "        correct += (prediction == label)\n",
        "    except:\n",
        "        continue\n",
        "\n",
        "accuracy = correct / len(dataset)\n",
        "print(f\"\\n📊 Accuracy: {accuracy * 100:.2f}%\")\n"
      ],
      "metadata": {
        "colab": {
          "base_uri": "https://localhost:8080/"
        },
        "id": "q1Zan-3EUAQY",
        "outputId": "2fe46629-119d-4b70-bc9b-8293b4d3e98f"
      },
      "execution_count": 9,
      "outputs": [
        {
          "output_type": "stream",
          "name": "stdout",
          "text": [
            "\n",
            "📊 Accuracy: 58.65%\n"
          ]
        }
      ]
    },
    {
      "cell_type": "markdown",
      "source": [
        "Evaluate RoBERTa"
      ],
      "metadata": {
        "id": "MAuPteGMUjRP"
      }
    },
    {
      "cell_type": "code",
      "source": [
        "from transformers import AutoTokenizer, AutoModelForMaskedLM\n",
        "import torch\n",
        "from torch.nn.functional import softmax\n",
        "from datasets import load_dataset\n",
        "\n",
        "# Load model\n",
        "roberta_tokenizer = AutoTokenizer.from_pretrained(\"roberta-large\")\n",
        "roberta_model = AutoModelForMaskedLM.from_pretrained(\"roberta-large\").eval()\n",
        "\n",
        "# Load WSC data\n",
        "wsc = load_dataset(\"super_glue\", \"wsc.fixed\")[\"validation\"]\n"
      ],
      "metadata": {
        "id": "RHBopx4VUlZH"
      },
      "execution_count": 10,
      "outputs": []
    },
    {
      "cell_type": "code",
      "source": [
        "def roberta_score_sentence(sentence):\n",
        "    inputs = roberta_tokenizer(sentence, return_tensors=\"pt\")\n",
        "    with torch.no_grad():\n",
        "        logits = roberta_model(**inputs).logits\n",
        "    input_ids = inputs.input_ids[0]\n",
        "    probs = softmax(logits[0], dim=-1)\n",
        "    token_probs = [probs[i, input_ids[i]].item() for i in range(len(input_ids))]\n",
        "    return sum(torch.log(torch.tensor(token_probs))).item()\n"
      ],
      "metadata": {
        "id": "9vHzKMeOVQwt"
      },
      "execution_count": 11,
      "outputs": []
    },
    {
      "cell_type": "code",
      "source": [
        "correct = 0\n",
        "total = 0\n",
        "\n",
        "for ex in wsc:\n",
        "    try:\n",
        "        t = ex['text']\n",
        "        span1 = ex['span1_text']\n",
        "        span2 = ex['span2_text']\n",
        "        if span1 not in t or span2 not in t:\n",
        "            continue\n",
        "        modified = t.replace(span2, span1)\n",
        "        orig_score = roberta_score_sentence(t)\n",
        "        mod_score = roberta_score_sentence(modified)\n",
        "        pred = int(mod_score > orig_score)\n",
        "        if pred == ex['label']:\n",
        "            correct += 1\n",
        "        total += 1\n",
        "    except Exception:\n",
        "        continue\n",
        "\n",
        "print(f\"📊 RoBERTa Accuracy: {correct / total * 100:.2f}%\")\n"
      ],
      "metadata": {
        "colab": {
          "base_uri": "https://localhost:8080/"
        },
        "id": "cgSWCKiVVT-f",
        "outputId": "adc07bc4-9616-4723-d6b7-8740054724ea"
      },
      "execution_count": 12,
      "outputs": [
        {
          "output_type": "stream",
          "name": "stderr",
          "text": [
            "/usr/local/lib/python3.11/dist-packages/torch/nn/modules/module.py:1750: FutureWarning: `encoder_attention_mask` is deprecated and will be removed in version 4.55.0 for `RobertaSdpaSelfAttention.forward`.\n",
            "  return forward_call(*args, **kwargs)\n"
          ]
        },
        {
          "output_type": "stream",
          "name": "stdout",
          "text": [
            "📊 RoBERTa Accuracy: 57.69%\n"
          ]
        }
      ]
    },
    {
      "cell_type": "code",
      "source": [
        "def masked_fill(sentence, masked_word):\n",
        "    masked = sentence.replace(masked_word, roberta_tokenizer.mask_token)\n",
        "    inputs = roberta_tokenizer(masked, return_tensors=\"pt\")\n",
        "    with torch.no_grad():\n",
        "        logits = roberta_model(**inputs).logits\n",
        "    mask_token_index = (inputs.input_ids == roberta_tokenizer.mask_token_id)[0].nonzero(as_tuple=True)[0]\n",
        "    predicted_ids = logits[0, mask_token_index].topk(5).indices[0].tolist()\n",
        "    return [roberta_tokenizer.decode([idx]).strip() for idx in predicted_ids]\n"
      ],
      "metadata": {
        "id": "gFmCBDT1WDJy"
      },
      "execution_count": 13,
      "outputs": []
    },
    {
      "cell_type": "code",
      "source": [
        "example = wsc[0]\n",
        "masked_fill(example[\"text\"], example[\"span2_text\"])\n"
      ],
      "metadata": {
        "colab": {
          "base_uri": "https://localhost:8080/"
        },
        "id": "VlFFFh5eWGqY",
        "outputId": "35434b8c-cefd-4b42-e0b6-3343958d0b22"
      },
      "execution_count": 14,
      "outputs": [
        {
          "output_type": "execute_result",
          "data": {
            "text/plain": [
              "['him', 'Bernard', 'his', 'them', 'her']"
            ]
          },
          "metadata": {},
          "execution_count": 14
        }
      ]
    },
    {
      "cell_type": "markdown",
      "source": [
        "Evaluate DeBERTa"
      ],
      "metadata": {
        "id": "os5kGouHWzUH"
      }
    },
    {
      "cell_type": "code",
      "source": [
        "from transformers import AutoTokenizer, AutoModelForMaskedLM\n",
        "import torch\n",
        "from torch.nn.functional import softmax\n",
        "from datasets import load_dataset\n",
        "\n",
        "# Load model\n",
        "deberta_tokenizer = AutoTokenizer.from_pretrained(\"microsoft/deberta-v3-base\")\n",
        "deberta_model = AutoModelForMaskedLM.from_pretrained(\"microsoft/deberta-v3-base\")\n",
        "\n",
        "# Load WSC data\n",
        "wsc = load_dataset(\"super_glue\", \"wsc.fixed\")[\"validation\"]\n"
      ],
      "metadata": {
        "colab": {
          "base_uri": "https://localhost:8080/"
        },
        "id": "4EonDvj9XE2h",
        "outputId": "b5320f2c-fb0f-44a3-aab4-f4de20a14989"
      },
      "execution_count": 15,
      "outputs": [
        {
          "output_type": "stream",
          "name": "stderr",
          "text": [
            "/usr/local/lib/python3.11/dist-packages/transformers/convert_slow_tokenizer.py:564: UserWarning: The sentencepiece tokenizer that you are converting to a fast tokenizer uses the byte fallback option which is not implemented in the fast tokenizers. In practice this means that the fast version of the tokenizer can produce unknown tokens whereas the sentencepiece version would have converted these unknown tokens into a sequence of byte tokens matching the original piece of text.\n",
            "  warnings.warn(\n",
            "Some weights of DebertaV2ForMaskedLM were not initialized from the model checkpoint at microsoft/deberta-v3-base and are newly initialized: ['cls.predictions.bias', 'cls.predictions.decoder.bias', 'cls.predictions.transform.LayerNorm.bias', 'cls.predictions.transform.LayerNorm.weight', 'cls.predictions.transform.dense.bias', 'cls.predictions.transform.dense.weight']\n",
            "You should probably TRAIN this model on a down-stream task to be able to use it for predictions and inference.\n"
          ]
        }
      ]
    },
    {
      "cell_type": "code",
      "source": [
        "def deberta_score_sentence(sentence):\n",
        "    inputs = deberta_tokenizer(sentence, return_tensors=\"pt\")\n",
        "    with torch.no_grad():\n",
        "        logits = deberta_model(**inputs).logits\n",
        "    input_ids = inputs.input_ids[0]\n",
        "    probs = softmax(logits[0], dim=-1)\n",
        "    token_probs = [probs[i, input_ids[i]].item() for i in range(len(input_ids))]\n",
        "    return sum(torch.log(torch.tensor(token_probs))).item()"
      ],
      "metadata": {
        "id": "cGNz6WdJXSa4"
      },
      "execution_count": 16,
      "outputs": []
    },
    {
      "cell_type": "code",
      "source": [
        "correct = 0\n",
        "total = 0\n",
        "\n",
        "for ex in wsc:\n",
        "    try:\n",
        "        t = ex['text']\n",
        "        span1 = ex['span1_text']\n",
        "        span2 = ex['span2_text']\n",
        "        if span1 not in t or span2 not in t:\n",
        "            continue\n",
        "        modified = t.replace(span2, span1)\n",
        "        orig_score = deberta_score_sentence(t)\n",
        "        mod_score = deberta_score_sentence(modified)\n",
        "        pred = int(mod_score > orig_score)\n",
        "        if pred == ex['label']:\n",
        "            correct += 1\n",
        "        total += 1\n",
        "    except Exception:\n",
        "        continue\n",
        "\n",
        "print(f\"📊 DeBERTa Accuracy: {correct / total * 100:.2f}%\")\n"
      ],
      "metadata": {
        "colab": {
          "base_uri": "https://localhost:8080/"
        },
        "id": "EgjiG3QZXyhF",
        "outputId": "f2d7ce7e-31cd-49bd-b13a-fe545454d5ce"
      },
      "execution_count": 17,
      "outputs": [
        {
          "output_type": "stream",
          "name": "stdout",
          "text": [
            "📊 DeBERTa Accuracy: 59.62%\n"
          ]
        }
      ]
    },
    {
      "cell_type": "code",
      "source": [
        "example = wsc[0]\n",
        "masked_fill(example[\"text\"], example[\"span2_text\"])"
      ],
      "metadata": {
        "colab": {
          "base_uri": "https://localhost:8080/"
        },
        "id": "1MzlSXeXbxJ0",
        "outputId": "0ef9de9a-0004-47a7-a037-5519aad3a33e"
      },
      "execution_count": 18,
      "outputs": [
        {
          "output_type": "execute_result",
          "data": {
            "text/plain": [
              "['him', 'Bernard', 'his', 'them', 'her']"
            ]
          },
          "metadata": {},
          "execution_count": 18
        }
      ]
    },
    {
      "cell_type": "markdown",
      "source": [
        "Use [MASK] Token to Probe Language Understanding"
      ],
      "metadata": {
        "id": "addAYO9EZuhw"
      }
    },
    {
      "cell_type": "code",
      "source": [
        "def get_mask_predictions(sentence, target_word, model, tokenizer, top_k=5):\n",
        "    # Replace the target word with the model's mask token\n",
        "    if target_word not in sentence:\n",
        "        raise ValueError(\"Target word not in sentence.\")\n",
        "\n",
        "    masked_sentence = sentence.replace(target_word, tokenizer.mask_token, 1)\n",
        "    inputs = tokenizer(masked_sentence, return_tensors=\"pt\")\n",
        "\n",
        "    with torch.no_grad():\n",
        "        outputs = model(**inputs).logits\n",
        "\n",
        "    mask_token_index = (inputs.input_ids == tokenizer.mask_token_id)[0].nonzero(as_tuple=True)[0]\n",
        "    top_k_ids = outputs[0, mask_token_index].topk(top_k, dim=-1).indices[0].tolist()\n",
        "    predictions = [tokenizer.decode([idx]).strip() for idx in top_k_ids]\n",
        "\n",
        "    return masked_sentence, predictions\n"
      ],
      "metadata": {
        "id": "TGTz2_OGbBzJ"
      },
      "execution_count": 19,
      "outputs": []
    },
    {
      "cell_type": "code",
      "source": [
        "sample = wsc[0]  # Use the first WSC example\n",
        "sentence = sample[\"text\"]\n",
        "target = sample[\"span2_text\"]\n",
        "\n",
        "masked, guesses = get_mask_predictions(sentence, target, roberta_model, roberta_tokenizer)\n",
        "print(\"Masked sentence:\", masked)\n",
        "print(\"Top predictions:\", guesses)\n"
      ],
      "metadata": {
        "colab": {
          "base_uri": "https://localhost:8080/"
        },
        "id": "GaRpT0Y1bGyU",
        "outputId": "0eb45513-ac36-4fcd-991f-8180fbfdcc32"
      },
      "execution_count": 20,
      "outputs": [
        {
          "output_type": "stream",
          "name": "stdout",
          "text": [
            "Masked sentence: Bernard , who had not told the government official that he was less than 21 when he filed for a homestead claim, did not consider that he had done anything dishonest. Still, anyone who knew that he was 19 years old could take his claim away from <mask> .\n",
            "Top predictions: ['him', 'Bernard', 'his', 'them', 'her']\n"
          ]
        }
      ]
    },
    {
      "cell_type": "markdown",
      "source": [
        "DeBERTa is better at reasoning about relationships between entities, while RoBERTa is better at predicting what words should appear in contex"
      ],
      "metadata": {
        "id": "50r22fvMd2lt"
      }
    },
    {
      "cell_type": "markdown",
      "source": [
        "Fine-Tuning BERT on WSC (Binary Classification"
      ],
      "metadata": {
        "id": "wrEPywGIbj8l"
      }
    },
    {
      "cell_type": "code",
      "source": [
        "!pip install transformers datasets\n",
        "\n",
        "import torch\n",
        "from torch.utils.data import Dataset, DataLoader\n",
        "import torch.nn as nn\n",
        "from transformers import RobertaTokenizer, RobertaModel\n",
        "import pandas as pd\n",
        "import numpy as np\n",
        "import random\n",
        "from tqdm import tqdm\n",
        "import os\n"
      ],
      "metadata": {
        "colab": {
          "base_uri": "https://localhost:8080/"
        },
        "id": "_899a2ycbonp",
        "outputId": "70a91c0c-baa8-4b0c-d4c0-93096d9f4e86"
      },
      "execution_count": 21,
      "outputs": [
        {
          "output_type": "stream",
          "name": "stdout",
          "text": [
            "Requirement already satisfied: transformers in /usr/local/lib/python3.11/dist-packages (4.54.0)\n",
            "Requirement already satisfied: datasets in /usr/local/lib/python3.11/dist-packages (4.0.0)\n",
            "Requirement already satisfied: filelock in /usr/local/lib/python3.11/dist-packages (from transformers) (3.18.0)\n",
            "Requirement already satisfied: huggingface-hub<1.0,>=0.34.0 in /usr/local/lib/python3.11/dist-packages (from transformers) (0.34.1)\n",
            "Requirement already satisfied: numpy>=1.17 in /usr/local/lib/python3.11/dist-packages (from transformers) (2.0.2)\n",
            "Requirement already satisfied: packaging>=20.0 in /usr/local/lib/python3.11/dist-packages (from transformers) (25.0)\n",
            "Requirement already satisfied: pyyaml>=5.1 in /usr/local/lib/python3.11/dist-packages (from transformers) (6.0.2)\n",
            "Requirement already satisfied: regex!=2019.12.17 in /usr/local/lib/python3.11/dist-packages (from transformers) (2024.11.6)\n",
            "Requirement already satisfied: requests in /usr/local/lib/python3.11/dist-packages (from transformers) (2.32.3)\n",
            "Requirement already satisfied: tokenizers<0.22,>=0.21 in /usr/local/lib/python3.11/dist-packages (from transformers) (0.21.2)\n",
            "Requirement already satisfied: safetensors>=0.4.3 in /usr/local/lib/python3.11/dist-packages (from transformers) (0.5.3)\n",
            "Requirement already satisfied: tqdm>=4.27 in /usr/local/lib/python3.11/dist-packages (from transformers) (4.67.1)\n",
            "Requirement already satisfied: pyarrow>=15.0.0 in /usr/local/lib/python3.11/dist-packages (from datasets) (18.1.0)\n",
            "Requirement already satisfied: dill<0.3.9,>=0.3.0 in /usr/local/lib/python3.11/dist-packages (from datasets) (0.3.8)\n",
            "Requirement already satisfied: pandas in /usr/local/lib/python3.11/dist-packages (from datasets) (2.2.2)\n",
            "Requirement already satisfied: xxhash in /usr/local/lib/python3.11/dist-packages (from datasets) (3.5.0)\n",
            "Requirement already satisfied: multiprocess<0.70.17 in /usr/local/lib/python3.11/dist-packages (from datasets) (0.70.16)\n",
            "Requirement already satisfied: fsspec<=2025.3.0,>=2023.1.0 in /usr/local/lib/python3.11/dist-packages (from fsspec[http]<=2025.3.0,>=2023.1.0->datasets) (2025.3.0)\n",
            "Requirement already satisfied: aiohttp!=4.0.0a0,!=4.0.0a1 in /usr/local/lib/python3.11/dist-packages (from fsspec[http]<=2025.3.0,>=2023.1.0->datasets) (3.12.14)\n",
            "Requirement already satisfied: typing-extensions>=3.7.4.3 in /usr/local/lib/python3.11/dist-packages (from huggingface-hub<1.0,>=0.34.0->transformers) (4.14.1)\n",
            "Requirement already satisfied: hf-xet<2.0.0,>=1.1.3 in /usr/local/lib/python3.11/dist-packages (from huggingface-hub<1.0,>=0.34.0->transformers) (1.1.5)\n",
            "Requirement already satisfied: charset-normalizer<4,>=2 in /usr/local/lib/python3.11/dist-packages (from requests->transformers) (3.4.2)\n",
            "Requirement already satisfied: idna<4,>=2.5 in /usr/local/lib/python3.11/dist-packages (from requests->transformers) (3.10)\n",
            "Requirement already satisfied: urllib3<3,>=1.21.1 in /usr/local/lib/python3.11/dist-packages (from requests->transformers) (2.5.0)\n",
            "Requirement already satisfied: certifi>=2017.4.17 in /usr/local/lib/python3.11/dist-packages (from requests->transformers) (2025.7.14)\n",
            "Requirement already satisfied: python-dateutil>=2.8.2 in /usr/local/lib/python3.11/dist-packages (from pandas->datasets) (2.9.0.post0)\n",
            "Requirement already satisfied: pytz>=2020.1 in /usr/local/lib/python3.11/dist-packages (from pandas->datasets) (2025.2)\n",
            "Requirement already satisfied: tzdata>=2022.7 in /usr/local/lib/python3.11/dist-packages (from pandas->datasets) (2025.2)\n",
            "Requirement already satisfied: aiohappyeyeballs>=2.5.0 in /usr/local/lib/python3.11/dist-packages (from aiohttp!=4.0.0a0,!=4.0.0a1->fsspec[http]<=2025.3.0,>=2023.1.0->datasets) (2.6.1)\n",
            "Requirement already satisfied: aiosignal>=1.4.0 in /usr/local/lib/python3.11/dist-packages (from aiohttp!=4.0.0a0,!=4.0.0a1->fsspec[http]<=2025.3.0,>=2023.1.0->datasets) (1.4.0)\n",
            "Requirement already satisfied: attrs>=17.3.0 in /usr/local/lib/python3.11/dist-packages (from aiohttp!=4.0.0a0,!=4.0.0a1->fsspec[http]<=2025.3.0,>=2023.1.0->datasets) (25.3.0)\n",
            "Requirement already satisfied: frozenlist>=1.1.1 in /usr/local/lib/python3.11/dist-packages (from aiohttp!=4.0.0a0,!=4.0.0a1->fsspec[http]<=2025.3.0,>=2023.1.0->datasets) (1.7.0)\n",
            "Requirement already satisfied: multidict<7.0,>=4.5 in /usr/local/lib/python3.11/dist-packages (from aiohttp!=4.0.0a0,!=4.0.0a1->fsspec[http]<=2025.3.0,>=2023.1.0->datasets) (6.6.3)\n",
            "Requirement already satisfied: propcache>=0.2.0 in /usr/local/lib/python3.11/dist-packages (from aiohttp!=4.0.0a0,!=4.0.0a1->fsspec[http]<=2025.3.0,>=2023.1.0->datasets) (0.3.2)\n",
            "Requirement already satisfied: yarl<2.0,>=1.17.0 in /usr/local/lib/python3.11/dist-packages (from aiohttp!=4.0.0a0,!=4.0.0a1->fsspec[http]<=2025.3.0,>=2023.1.0->datasets) (1.20.1)\n",
            "Requirement already satisfied: six>=1.5 in /usr/local/lib/python3.11/dist-packages (from python-dateutil>=2.8.2->pandas->datasets) (1.17.0)\n"
          ]
        }
      ]
    },
    {
      "cell_type": "code",
      "source": [
        "device = torch.device(\"cuda\" if torch.cuda.is_available() else \"cpu\")\n",
        "print(\"Using device:\", device)\n"
      ],
      "metadata": {
        "colab": {
          "base_uri": "https://localhost:8080/"
        },
        "id": "YowyhouniZ37",
        "outputId": "b7ac6436-5368-4487-fac9-b9bed6c501b6"
      },
      "execution_count": 22,
      "outputs": [
        {
          "output_type": "stream",
          "name": "stdout",
          "text": [
            "Using device: cuda\n"
          ]
        }
      ]
    },
    {
      "cell_type": "code",
      "source": [
        "from datasets import load_dataset\n",
        "\n",
        "dataset = load_dataset(\"super_glue\", \"wsc\")\n",
        "train_data = dataset['train']\n",
        "val_data = dataset['validation']\n"
      ],
      "metadata": {
        "id": "wQYEroy0icm0"
      },
      "execution_count": 23,
      "outputs": []
    },
    {
      "cell_type": "code",
      "source": [
        "from transformers import AutoTokenizer\n",
        "tokenizer = AutoTokenizer.from_pretrained('microsoft/deberta-v3-base')\n",
        "special_tokens = ['<s1>', '</s1>', '<s2>', '</s2>']\n",
        "tokenizer.add_tokens(special_tokens)"
      ],
      "metadata": {
        "colab": {
          "base_uri": "https://localhost:8080/"
        },
        "id": "R6VxuQJrie8x",
        "outputId": "6db8aee0-1caf-4eaf-bb88-f21cdee27dac"
      },
      "execution_count": 24,
      "outputs": [
        {
          "output_type": "execute_result",
          "data": {
            "text/plain": [
              "4"
            ]
          },
          "metadata": {},
          "execution_count": 24
        }
      ]
    },
    {
      "cell_type": "code",
      "source": [
        "from transformers import AutoModel\n",
        "\n",
        "class WSCDataset(Dataset):\n",
        "    def __init__(self, data, tokenizer, max_len=128):\n",
        "        self.data = data\n",
        "        self.tokenizer = tokenizer\n",
        "        self.max_len = max_len\n",
        "\n",
        "    def __len__(self):\n",
        "        return len(self.data)\n",
        "\n",
        "    def __getitem__(self, idx):\n",
        "        example = self.data[idx]\n",
        "        sentence = example['text']\n",
        "        span1 = example['span1_text']\n",
        "        span2 = example['span2_text']\n",
        "        label = example['label']\n",
        "\n",
        "        # Add special tokens to help model recognize spans\n",
        "        marked_sentence = sentence.replace(span1, f\"<s1>{span1}</s1>\")\n",
        "        marked_sentence = marked_sentence.replace(span2, f\"<s2>{span2}</s2>\")\n",
        "\n",
        "        # Tokenize\n",
        "        encoding = self.tokenizer(\n",
        "            marked_sentence,\n",
        "            truncation=True,\n",
        "            padding='max_length',\n",
        "            max_length=self.max_len,\n",
        "            return_tensors='pt'\n",
        "        )\n",
        "\n",
        "        input_ids = encoding['input_ids'].squeeze()\n",
        "        attention_mask = encoding['attention_mask'].squeeze()\n",
        "\n",
        "        return {\n",
        "            'input_ids': input_ids,\n",
        "            'attention_mask': attention_mask,\n",
        "            'label': torch.tensor(label, dtype=torch.long)\n",
        "        }"
      ],
      "metadata": {
        "id": "5HAQw2Cmi6nn"
      },
      "execution_count": 25,
      "outputs": []
    },
    {
      "cell_type": "code",
      "source": [
        "class WSCClassifier(nn.Module):\n",
        "    def __init__(self, tokenizer_len):\n",
        "        super().__init__()\n",
        "        self.deberta = AutoModel.from_pretrained('microsoft/deberta-v3-base')\n",
        "        # Resize embeddings for new special tokens\n",
        "        self.deberta.resize_token_embeddings(tokenizer_len)\n",
        "        self.classifier = nn.Linear(self.deberta.config.hidden_size, 2)\n",
        "        self.dropout = nn.Dropout(0.1)\n",
        "\n",
        "    def forward(self, input_ids, attention_mask):\n",
        "        outputs = self.deberta(input_ids=input_ids, attention_mask=attention_mask)\n",
        "        # Use [CLS] token (position 0) for classification\n",
        "        cls_token = outputs.last_hidden_state[:, 0, :]\n",
        "        cls_token = self.dropout(cls_token)\n",
        "        return self.classifier(cls_token)"
      ],
      "metadata": {
        "id": "RFFjQO6Ti98A"
      },
      "execution_count": 26,
      "outputs": []
    },
    {
      "cell_type": "code",
      "source": [
        "train_dataset = WSCDataset(train_data, tokenizer)\n",
        "val_dataset = WSCDataset(val_data, tokenizer)\n",
        "\n",
        "train_loader = DataLoader(train_dataset, batch_size=8, shuffle=True)\n",
        "val_loader = DataLoader(val_dataset, batch_size=8)"
      ],
      "metadata": {
        "id": "3oTcGMoIjA6H"
      },
      "execution_count": 27,
      "outputs": []
    },
    {
      "cell_type": "code",
      "source": [
        "import os\n",
        "os.environ['CUDA_LAUNCH_BLOCKING'] = '1'\n",
        "\n",
        "# Clear CUDA cache\n",
        "import torch\n",
        "torch.cuda.empty_cache()"
      ],
      "metadata": {
        "id": "EgO-z4pml64P"
      },
      "execution_count": 28,
      "outputs": []
    },
    {
      "cell_type": "code",
      "source": [
        "class WSCClassifier(nn.Module):\n",
        "    def __init__(self, vocab_size=None):  # Add parameter if needed\n",
        "        super().__init__()\n",
        "        self.deberta = AutoModel.from_pretrained('microsoft/deberta-v3-base')\n",
        "\n",
        "        # Resize embeddings if vocab_size is provided\n",
        "        if vocab_size:\n",
        "            self.deberta.resize_token_embeddings(vocab_size)\n",
        "\n",
        "        self.classifier = nn.Linear(self.deberta.config.hidden_size, 2)\n",
        "\n",
        "    def forward(self, input_ids, attention_mask):\n",
        "        outputs = self.deberta(input_ids=input_ids, attention_mask=attention_mask)\n",
        "        cls_token = outputs.last_hidden_state[:, 0, :]\n",
        "        return self.classifier(cls_token)"
      ],
      "metadata": {
        "id": "twI2HKDXl-gi"
      },
      "execution_count": 29,
      "outputs": []
    },
    {
      "cell_type": "code",
      "source": [
        "model = WSCClassifier().to(device)\n",
        "optimizer = torch.optim.AdamW(model.parameters(), lr=2e-5)\n",
        "criterion = nn.CrossEntropyLoss()\n",
        "EPOCHS = 4\n",
        "\n",
        "for epoch in range(EPOCHS):\n",
        "    model.train()\n",
        "    total_loss = 0\n",
        "    correct = 0\n",
        "    for batch in tqdm(train_loader):\n",
        "        input_ids = batch['input_ids'].to(device)\n",
        "        attention_mask = batch['attention_mask'].to(device)\n",
        "        labels = batch['label'].to(device)\n",
        "\n",
        "        optimizer.zero_grad()\n",
        "        logits = model(input_ids, attention_mask)\n",
        "        loss = criterion(logits, labels)\n",
        "        loss.backward()\n",
        "        optimizer.step()\n",
        "\n",
        "        total_loss += loss.item()\n",
        "        preds = torch.argmax(logits, dim=1)\n",
        "        correct += (preds == labels).sum().item()\n",
        "\n",
        "    acc = correct / len(train_loader.dataset)\n",
        "    print(f\"Epoch {epoch+1} | Train Loss: {total_loss:.4f} | Train Acc: {acc*100:.2f}%\")"
      ],
      "metadata": {
        "colab": {
          "base_uri": "https://localhost:8080/"
        },
        "id": "lpbcD7tDjDH0",
        "outputId": "e80a9fca-21a4-4a9c-ca71-10453403d664"
      },
      "execution_count": 30,
      "outputs": [
        {
          "output_type": "stream",
          "name": "stderr",
          "text": [
            "100%|██████████| 70/70 [00:34<00:00,  2.04it/s]\n"
          ]
        },
        {
          "output_type": "stream",
          "name": "stdout",
          "text": [
            "Epoch 1 | Train Loss: 49.1191 | Train Acc: 50.00%\n"
          ]
        },
        {
          "output_type": "stream",
          "name": "stderr",
          "text": [
            "100%|██████████| 70/70 [00:27<00:00,  2.59it/s]\n"
          ]
        },
        {
          "output_type": "stream",
          "name": "stdout",
          "text": [
            "Epoch 2 | Train Loss: 48.8857 | Train Acc: 49.28%\n"
          ]
        },
        {
          "output_type": "stream",
          "name": "stderr",
          "text": [
            "100%|██████████| 70/70 [00:22<00:00,  3.09it/s]\n"
          ]
        },
        {
          "output_type": "stream",
          "name": "stdout",
          "text": [
            "Epoch 3 | Train Loss: 49.1703 | Train Acc: 50.36%\n"
          ]
        },
        {
          "output_type": "stream",
          "name": "stderr",
          "text": [
            "100%|██████████| 70/70 [00:22<00:00,  3.09it/s]"
          ]
        },
        {
          "output_type": "stream",
          "name": "stdout",
          "text": [
            "Epoch 4 | Train Loss: 48.6522 | Train Acc: 50.54%\n"
          ]
        },
        {
          "output_type": "stream",
          "name": "stderr",
          "text": [
            "\n"
          ]
        }
      ]
    },
    {
      "cell_type": "code",
      "source": [
        "model.eval()\n",
        "correct = 0\n",
        "\n",
        "with torch.no_grad():\n",
        "    for batch in val_loader:\n",
        "        input_ids = batch['input_ids'].to(device)\n",
        "        attention_mask = batch['attention_mask'].to(device)\n",
        "        labels = batch['label'].to(device)\n",
        "\n",
        "        logits = model(input_ids, attention_mask)\n",
        "        preds = torch.argmax(logits, dim=1)\n",
        "        correct += (preds == labels).sum().item()\n",
        "\n",
        "val_acc = correct / len(val_loader.dataset)\n",
        "print(f\"✅ Validation Accuracy: {val_acc*100:.2f}%\")\n"
      ],
      "metadata": {
        "colab": {
          "base_uri": "https://localhost:8080/"
        },
        "id": "OpwP1PPIoFi8",
        "outputId": "0fdbd9ac-52e4-4819-e841-c792696feffa"
      },
      "execution_count": 31,
      "outputs": [
        {
          "output_type": "stream",
          "name": "stdout",
          "text": [
            "✅ Validation Accuracy: 63.46%\n"
          ]
        }
      ]
    },
    {
      "cell_type": "markdown",
      "source": [
        "Span-Aware Fine-Tuning"
      ],
      "metadata": {
        "id": "3LKC2IshpkMQ"
      }
    },
    {
      "cell_type": "code",
      "source": [
        "!pip install transformers tqdm --quiet\n"
      ],
      "metadata": {
        "id": "TI9rwtd_sAFJ"
      },
      "execution_count": 32,
      "outputs": []
    },
    {
      "cell_type": "code",
      "source": [
        "import torch\n",
        "import torch.nn as nn\n",
        "import torch.nn.functional as F\n",
        "from transformers import AutoModel, AutoTokenizer\n",
        "from torch.utils.data import Dataset, DataLoader\n",
        "from tqdm import tqdm\n"
      ],
      "metadata": {
        "id": "u5SdW0FpvbHD"
      },
      "execution_count": 33,
      "outputs": []
    },
    {
      "cell_type": "code",
      "source": [
        "class SpanAwareWSCDataset(Dataset):\n",
        "    def __init__(self, data, tokenizer, max_len=128):\n",
        "        self.data = data\n",
        "        self.tokenizer = tokenizer\n",
        "        self.max_len = max_len\n",
        "\n",
        "    def __len__(self):\n",
        "        return len(self.data)\n",
        "\n",
        "    def __getitem__(self, idx):\n",
        "        example = self.data[idx]\n",
        "        sentence = example['text']\n",
        "        span1 = example['span1_text']\n",
        "        span2 = example['span2_text']\n",
        "        label = example['label']\n",
        "\n",
        "        encoding = self.tokenizer(\n",
        "            sentence,\n",
        "            truncation=True,\n",
        "            padding='max_length',\n",
        "            max_length=self.max_len,\n",
        "            return_tensors='pt',\n",
        "            return_offsets_mapping=True\n",
        "        )\n",
        "\n",
        "        input_ids = encoding['input_ids'].squeeze()\n",
        "        attention_mask = encoding['attention_mask'].squeeze()\n",
        "        offset_mapping = encoding['offset_mapping'].squeeze()\n",
        "\n",
        "        span1_mask = torch.zeros_like(input_ids)\n",
        "        span2_mask = torch.zeros_like(input_ids)\n",
        "\n",
        "        span1_start = sentence.find(span1)\n",
        "        span1_end = span1_start + len(span1)\n",
        "        span2_start = sentence.find(span2)\n",
        "        span2_end = span2_start + len(span2)\n",
        "\n",
        "        for i, (start, end) in enumerate(offset_mapping):\n",
        "            if start == 0 and end == 0:\n",
        "                continue\n",
        "\n",
        "            if not (end <= span1_start or start >= span1_end):\n",
        "                span1_mask[i] = 1\n",
        "\n",
        "            if not (end <= span2_start or start >= span2_end):\n",
        "                span2_mask[i] = 1\n",
        "\n",
        "        return {\n",
        "            'input_ids': input_ids,\n",
        "            'attention_mask': attention_mask,\n",
        "            'span1_mask': span1_mask,\n",
        "            'span2_mask': span2_mask,\n",
        "            'label': torch.tensor(label, dtype=torch.long)\n",
        "        }\n"
      ],
      "metadata": {
        "id": "Hm9XCbFTvhRC"
      },
      "execution_count": 34,
      "outputs": []
    },
    {
      "cell_type": "markdown",
      "source": [
        "This model uses DeBERTa as a base encoder and adds:\n",
        "- Multi-head attention over each span\n",
        "- Cross-attention between the two spans\n",
        "- A classifier over the combined representations of `[CLS]`, span1, span2, and their interaction\n"
      ],
      "metadata": {
        "id": "MyadDZdWv1jj"
      }
    },
    {
      "cell_type": "code",
      "source": [
        "class SpanAwareWSCClassifier(nn.Module):\n",
        "    def __init__(self, model_name='microsoft/deberta-v3-base', hidden_size=768):\n",
        "        super().__init__()\n",
        "        self.deberta = AutoModel.from_pretrained(model_name)\n",
        "        self.hidden_size = hidden_size\n",
        "\n",
        "        self.span1_attention = nn.MultiheadAttention(hidden_size, 8, batch_first=True)\n",
        "        self.span2_attention = nn.MultiheadAttention(hidden_size, 8, batch_first=True)\n",
        "        self.cross_attention = nn.MultiheadAttention(hidden_size, 8, batch_first=True)\n",
        "\n",
        "        self.dropout = nn.Dropout(0.1)\n",
        "        self.layer_norm = nn.LayerNorm(hidden_size * 4)\n",
        "        self.classifier = nn.Sequential(\n",
        "            nn.Linear(hidden_size * 4, hidden_size),\n",
        "            nn.ReLU(),\n",
        "            nn.Dropout(0.1),\n",
        "            nn.Linear(hidden_size, 2)\n",
        "        )\n",
        "\n",
        "    def forward(self, input_ids, attention_mask, span1_mask, span2_mask):\n",
        "        outputs = self.deberta(input_ids=input_ids, attention_mask=attention_mask)\n",
        "        hidden_states = outputs.last_hidden_state\n",
        "        cls_repr = hidden_states[:, 0, :]\n",
        "\n",
        "        span1_repr = self.get_span_representation(hidden_states, span1_mask, self.span1_attention)\n",
        "        span2_repr = self.get_span_representation(hidden_states, span2_mask, self.span2_attention)\n",
        "        interaction_repr = self.get_interaction_representation(span1_repr, span2_repr)\n",
        "\n",
        "        combined = torch.cat([cls_repr, span1_repr, span2_repr, interaction_repr], dim=-1)\n",
        "        combined = self.layer_norm(combined)\n",
        "        combined = self.dropout(combined)\n",
        "        return self.classifier(combined)\n",
        "\n",
        "    def get_span_representation(self, hidden_states, span_mask, attention_layer, return_attention=False):\n",
        "        batch_size, seq_len, hidden_size = hidden_states.size()\n",
        "        span_attention_mask = span_mask.float()\n",
        "        has_span = span_attention_mask.sum(dim=1, keepdim=True) > 0\n",
        "\n",
        "        attn_output, attn_weights = attention_layer(\n",
        "            hidden_states,\n",
        "            hidden_states,\n",
        "            hidden_states,\n",
        "            key_padding_mask=(1 - span_attention_mask).bool(),\n",
        "            need_weights=True,\n",
        "            average_attn_weights=True\n",
        "        )\n",
        "\n",
        "        span_lengths = span_attention_mask.sum(dim=1, keepdim=True).clamp(min=1)\n",
        "        span_repr = (attn_output * span_attention_mask.unsqueeze(-1)).sum(dim=1) / span_lengths\n",
        "        cls_repr = hidden_states[:, 0, :]\n",
        "        final_repr = torch.where(has_span, span_repr, cls_repr)\n",
        "\n",
        "        if return_attention:\n",
        "            return final_repr, attn_weights\n",
        "        return final_repr\n",
        "\n",
        "    def get_interaction_representation(self, span1_repr, span2_repr):\n",
        "        interaction, _ = self.cross_attention(\n",
        "            span1_repr.unsqueeze(1),\n",
        "            span2_repr.unsqueeze(1),\n",
        "            span2_repr.unsqueeze(1)\n",
        "        )\n",
        "        return interaction.squeeze(1)\n"
      ],
      "metadata": {
        "id": "d6VEKLg3v3hd"
      },
      "execution_count": 35,
      "outputs": []
    },
    {
      "cell_type": "markdown",
      "source": [
        "This function handles the full training loop including:\n",
        "- Data loading\n",
        "- Accuracy and loss tracking\n",
        "- Learning rate scheduling\n",
        "- Model checkpointing\n"
      ],
      "metadata": {
        "id": "V8Ksc0giv9IA"
      }
    },
    {
      "cell_type": "code",
      "source": [
        "def train_span_aware_model(train_data, val_data, tokenizer, device, epochs=10, patience=3):\n",
        "    train_dataset = SpanAwareWSCDataset(train_data, tokenizer)\n",
        "    val_dataset = SpanAwareWSCDataset(val_data, tokenizer)\n",
        "\n",
        "    train_loader = DataLoader(train_dataset, batch_size=8, shuffle=True)\n",
        "    val_loader = DataLoader(val_dataset, batch_size=8)\n",
        "\n",
        "    model = SpanAwareWSCClassifier().to(device)\n",
        "    optimizer = torch.optim.AdamW(model.parameters(), lr=2e-5, weight_decay=0.01)\n",
        "    scheduler = torch.optim.lr_scheduler.LinearLR(optimizer, start_factor=1.0, end_factor=0.1, total_iters=epochs)\n",
        "    criterion = nn.CrossEntropyLoss()\n",
        "\n",
        "    print(f\"🚀 Model has {sum(p.numel() for p in model.parameters()):,} parameters\")\n",
        "\n",
        "    best_val_acc = 0\n",
        "    patience_counter = 0\n",
        "\n",
        "    for epoch in range(epochs):\n",
        "        model.train()\n",
        "        total_loss, correct, total = 0, 0, 0\n",
        "\n",
        "        for batch in tqdm(train_loader, desc=f\"Epoch {epoch+1}/{epochs} [Train]\"):\n",
        "            input_ids = batch['input_ids'].to(device)\n",
        "            attention_mask = batch['attention_mask'].to(device)\n",
        "            span1_mask = batch['span1_mask'].to(device)\n",
        "            span2_mask = batch['span2_mask'].to(device)\n",
        "            labels = batch['label'].to(device)\n",
        "\n",
        "            optimizer.zero_grad()\n",
        "            logits = model(input_ids, attention_mask, span1_mask, span2_mask)\n",
        "            loss = criterion(logits, labels)\n",
        "            loss.backward()\n",
        "            torch.nn.utils.clip_grad_norm_(model.parameters(), 1.0)\n",
        "            optimizer.step()\n",
        "\n",
        "            total_loss += loss.item()\n",
        "            preds = logits.argmax(dim=1)\n",
        "            correct += (preds == labels).sum().item()\n",
        "            total += labels.size(0)\n",
        "\n",
        "        val_loss, val_correct, val_total = 0, 0, 0\n",
        "        model.eval()\n",
        "        with torch.no_grad():\n",
        "            for batch in tqdm(val_loader, desc=f\"Epoch {epoch+1}/{epochs} [Val]\"):\n",
        "                input_ids = batch['input_ids'].to(device)\n",
        "                attention_mask = batch['attention_mask'].to(device)\n",
        "                span1_mask = batch['span1_mask'].to(device)\n",
        "                span2_mask = batch['span2_mask'].to(device)\n",
        "                labels = batch['label'].to(device)\n",
        "\n",
        "                logits = model(input_ids, attention_mask, span1_mask, span2_mask)\n",
        "                val_loss += criterion(logits, labels).item()\n",
        "                preds = logits.argmax(dim=1)\n",
        "                val_correct += (preds == labels).sum().item()\n",
        "                val_total += labels.size(0)\n",
        "\n",
        "        train_acc = correct / total\n",
        "        val_acc = val_correct / val_total\n",
        "\n",
        "        print(f\"\\n📊 Epoch {epoch+1}: Train Acc = {train_acc*100:.2f}% | Val Acc = {val_acc*100:.2f}%\")\n",
        "\n",
        "        if val_acc > best_val_acc:\n",
        "            best_val_acc = val_acc\n",
        "            torch.save(model.state_dict(), 'best_span_aware_wsc_model.pth')\n",
        "            print(\"✅ New best model saved!\")\n",
        "            patience_counter = 0  # reset counter\n",
        "        else:\n",
        "            patience_counter += 1\n",
        "            print(f\"⚠️  No improvement. Patience: {patience_counter}/{patience}\")\n",
        "            if patience_counter >= patience:\n",
        "                print(\"🛑 Early stopping triggered.\")\n",
        "                break\n",
        "\n",
        "        scheduler.step()\n",
        "\n",
        "    print(f\"\\n🏁 Training complete! Best Val Accuracy: {best_val_acc*100:.2f}%\")\n",
        "    return model"
      ],
      "metadata": {
        "id": "3xguI5Nsv-md"
      },
      "execution_count": 36,
      "outputs": []
    },
    {
      "cell_type": "code",
      "source": [
        "\n",
        "tokenizer = AutoTokenizer.from_pretrained('microsoft/deberta-v3-base')\n",
        "device = torch.device('cuda' if torch.cuda.is_available() else 'cpu')\n",
        "model = train_span_aware_model(train_data, val_data, tokenizer, device)\n"
      ],
      "metadata": {
        "colab": {
          "base_uri": "https://localhost:8080/"
        },
        "id": "bRNWxw95wYW_",
        "outputId": "3f9b33c9-fc91-44fe-ccea-c76f363fd1f9"
      },
      "execution_count": 37,
      "outputs": [
        {
          "output_type": "stream",
          "name": "stderr",
          "text": [
            "/usr/local/lib/python3.11/dist-packages/transformers/convert_slow_tokenizer.py:564: UserWarning: The sentencepiece tokenizer that you are converting to a fast tokenizer uses the byte fallback option which is not implemented in the fast tokenizers. In practice this means that the fast version of the tokenizer can produce unknown tokens whereas the sentencepiece version would have converted these unknown tokens into a sequence of byte tokens matching the original piece of text.\n",
            "  warnings.warn(\n"
          ]
        },
        {
          "output_type": "stream",
          "name": "stdout",
          "text": [
            "🚀 Model has 193,286,402 parameters\n"
          ]
        },
        {
          "output_type": "stream",
          "name": "stderr",
          "text": [
            "Epoch 1/10 [Train]: 100%|██████████| 70/70 [00:43<00:00,  1.62it/s]\n",
            "Epoch 1/10 [Val]: 100%|██████████| 13/13 [00:01<00:00,  6.74it/s]\n"
          ]
        },
        {
          "output_type": "stream",
          "name": "stdout",
          "text": [
            "\n",
            "📊 Epoch 1: Train Acc = 49.28% | Val Acc = 36.54%\n",
            "✅ New best model saved!\n"
          ]
        },
        {
          "output_type": "stream",
          "name": "stderr",
          "text": [
            "Epoch 2/10 [Train]: 100%|██████████| 70/70 [00:26<00:00,  2.65it/s]\n",
            "Epoch 2/10 [Val]: 100%|██████████| 13/13 [00:01<00:00,  7.15it/s]\n"
          ]
        },
        {
          "output_type": "stream",
          "name": "stdout",
          "text": [
            "\n",
            "📊 Epoch 2: Train Acc = 51.44% | Val Acc = 36.54%\n",
            "⚠️  No improvement. Patience: 1/3\n"
          ]
        },
        {
          "output_type": "stream",
          "name": "stderr",
          "text": [
            "Epoch 3/10 [Train]: 100%|██████████| 70/70 [00:26<00:00,  2.68it/s]\n",
            "Epoch 3/10 [Val]: 100%|██████████| 13/13 [00:01<00:00,  8.59it/s]\n"
          ]
        },
        {
          "output_type": "stream",
          "name": "stdout",
          "text": [
            "\n",
            "📊 Epoch 3: Train Acc = 51.62% | Val Acc = 63.46%\n",
            "✅ New best model saved!\n"
          ]
        },
        {
          "output_type": "stream",
          "name": "stderr",
          "text": [
            "Epoch 4/10 [Train]: 100%|██████████| 70/70 [00:33<00:00,  2.06it/s]\n",
            "Epoch 4/10 [Val]: 100%|██████████| 13/13 [00:01<00:00,  8.60it/s]\n"
          ]
        },
        {
          "output_type": "stream",
          "name": "stdout",
          "text": [
            "\n",
            "📊 Epoch 4: Train Acc = 51.26% | Val Acc = 63.46%\n",
            "⚠️  No improvement. Patience: 1/3\n"
          ]
        },
        {
          "output_type": "stream",
          "name": "stderr",
          "text": [
            "Epoch 5/10 [Train]: 100%|██████████| 70/70 [00:26<00:00,  2.65it/s]\n",
            "Epoch 5/10 [Val]: 100%|██████████| 13/13 [00:01<00:00,  7.45it/s]\n"
          ]
        },
        {
          "output_type": "stream",
          "name": "stdout",
          "text": [
            "\n",
            "📊 Epoch 5: Train Acc = 52.35% | Val Acc = 63.46%\n",
            "⚠️  No improvement. Patience: 2/3\n"
          ]
        },
        {
          "output_type": "stream",
          "name": "stderr",
          "text": [
            "Epoch 6/10 [Train]: 100%|██████████| 70/70 [00:26<00:00,  2.68it/s]\n",
            "Epoch 6/10 [Val]: 100%|██████████| 13/13 [00:01<00:00,  8.59it/s]"
          ]
        },
        {
          "output_type": "stream",
          "name": "stdout",
          "text": [
            "\n",
            "📊 Epoch 6: Train Acc = 53.07% | Val Acc = 63.46%\n",
            "⚠️  No improvement. Patience: 3/3\n",
            "🛑 Early stopping triggered.\n",
            "\n",
            "🏁 Training complete! Best Val Accuracy: 63.46%\n"
          ]
        },
        {
          "output_type": "stream",
          "name": "stderr",
          "text": [
            "\n"
          ]
        }
      ]
    },
    {
      "cell_type": "markdown",
      "source": [
        "This utility helps visualize which tokens in the input contributed most to the model’s decision. We’ll use the attention weights from the span attention heads and CLS token relevance as a rough proxy (similar to Grad-CAM but adapted for transformers).\n"
      ],
      "metadata": {
        "id": "AoLP3Leixj5G"
      }
    },
    {
      "cell_type": "code",
      "source": [
        "def visualize_attention(tokenizer, input_ids, span1_mask, span2_mask, attention_scores, title=\"Attention\"):\n",
        "    import matplotlib.pyplot as plt\n",
        "    import seaborn as sns\n",
        "\n",
        "    tokens = tokenizer.convert_ids_to_tokens(input_ids)\n",
        "    attention_scores = attention_scores.detach().cpu().numpy()\n",
        "\n",
        "    plt.figure(figsize=(len(tokens) * 0.3, 1.5))\n",
        "    sns.heatmap([attention_scores], xticklabels=tokens, cmap=\"Blues\", cbar=True, linewidths=0.5, annot=False)\n",
        "    plt.xticks(rotation=90)\n",
        "    plt.title(title)\n",
        "    plt.yticks([])\n",
        "    plt.show()\n"
      ],
      "metadata": {
        "id": "hj5e2qmixh81"
      },
      "execution_count": 38,
      "outputs": []
    },
    {
      "cell_type": "code",
      "source": [
        "def predict_and_visualize(model, tokenizer, sentence, span1_text, span2_text, device):\n",
        "    model.eval()\n",
        "\n",
        "    # Tokenize input\n",
        "    encoding = tokenizer(\n",
        "        sentence,\n",
        "        truncation=True,\n",
        "        padding='max_length',\n",
        "        max_length=128,\n",
        "        return_tensors='pt',\n",
        "        return_offsets_mapping=True\n",
        "    )\n",
        "\n",
        "    input_ids = encoding['input_ids'].to(device)\n",
        "    attention_mask = encoding['attention_mask'].to(device)\n",
        "    offset_mapping = encoding['offset_mapping'].squeeze()\n",
        "\n",
        "    # Prepare span masks\n",
        "    span1_mask = torch.zeros_like(input_ids)\n",
        "    span2_mask = torch.zeros_like(input_ids)\n",
        "\n",
        "    s1_start = sentence.find(span1_text)\n",
        "    s1_end = s1_start + len(span1_text)\n",
        "    s2_start = sentence.find(span2_text)\n",
        "    s2_end = s2_start + len(span2_text)\n",
        "\n",
        "    for i, (start, end) in enumerate(offset_mapping):\n",
        "        if start == 0 and end == 0:\n",
        "            continue\n",
        "        if not (end <= s1_start or start >= s1_end):\n",
        "            span1_mask[0, i] = 1\n",
        "        if not (end <= s2_start or start >= s2_end):\n",
        "            span2_mask[0, i] = 1\n",
        "\n",
        "    # Forward pass with attention extraction\n",
        "    with torch.no_grad():\n",
        "        hidden_states = model.deberta(input_ids, attention_mask=attention_mask).last_hidden_state\n",
        "\n",
        "        s1_repr, s1_att = model.get_span_representation(hidden_states, span1_mask, model.span1_attention, return_attention=True)\n",
        "        s2_repr, s2_att = model.get_span_representation(hidden_states, span2_mask, model.span2_attention, return_attention=True)\n",
        "        interaction_repr = model.get_interaction_representation(s1_repr, s2_repr)\n",
        "        cls_repr = hidden_states[:, 0, :]\n",
        "\n",
        "        combined = torch.cat([cls_repr, s1_repr, s2_repr, interaction_repr], dim=-1)\n",
        "        combined = model.layer_norm(combined)\n",
        "        combined = model.dropout(combined)\n",
        "        logits = model.classifier(combined)\n",
        "\n",
        "        probs = F.softmax(logits, dim=-1).squeeze().cpu()\n",
        "        pred = torch.argmax(probs).item()\n",
        "        label_str = \"Same Entity\" if pred == 1 else \"Different Entities\"\n",
        "\n",
        "        print(f\"🔍 Sentence: {sentence}\")\n",
        "        print(f\"👤 Span1: \\\"{span1_text}\\\" | 👤 Span2: \\\"{span2_text}\\\"\")\n",
        "        print(f\"🧠 Prediction: {label_str} (Confidence: {probs[pred]:.2f})\")\n",
        "\n",
        "    visualize_attention(tokenizer, input_ids[0], span1_mask[0], span2_mask[0], s1_att[0].mean(0), title=\"Span 1 Attention\")\n",
        "    visualize_attention(tokenizer, input_ids[0], span1_mask[0], span2_mask[0], s2_att[0].mean(0), title=\"Span 2 Attention\")\n"
      ],
      "metadata": {
        "id": "tVHelktkxtxX"
      },
      "execution_count": 39,
      "outputs": []
    },
    {
      "cell_type": "code",
      "source": [
        "# Load model if not already in memory\n",
        "model.load_state_dict(torch.load('best_span_aware_wsc_model.pth', map_location=device))\n",
        "\n",
        "# Example interactive prediction\n",
        "predict_and_visualize(\n",
        "    model=model,\n",
        "    tokenizer=tokenizer,\n",
        "    sentence=\"The trophy wouldn't fit in the suitcase because it was too big.\",\n",
        "    span1_text=\"trophy\",\n",
        "    span2_text=\"it\",\n",
        "    device=device\n",
        ")\n"
      ],
      "metadata": {
        "colab": {
          "base_uri": "https://localhost:8080/",
          "height": 399
        },
        "id": "0BUF-MYryUNW",
        "outputId": "88833add-f23b-47be-ddf3-d694482e64bf"
      },
      "execution_count": 40,
      "outputs": [
        {
          "output_type": "stream",
          "name": "stdout",
          "text": [
            "🔍 Sentence: The trophy wouldn't fit in the suitcase because it was too big.\n",
            "👤 Span1: \"trophy\" | 👤 Span2: \"it\"\n",
            "🧠 Prediction: Different Entities (Confidence: 0.58)\n"
          ]
        },
        {
          "output_type": "display_data",
          "data": {
            "text/plain": [
              "<Figure size 3840x150 with 2 Axes>"
            ],
            "image/png": "[encoded data removed]"
          },
          "metadata": {}
        },
        {
          "output_type": "display_data",
          "data": {
            "text/plain": [
              "<Figure size 3840x150 with 2 Axes>"
            ],
            "image/png": "[encoded data removed]"
          },
          "metadata": {}
        }
      ]
    }
  ]
}